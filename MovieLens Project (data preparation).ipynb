{
 "cells": [
  {
   "cell_type": "code",
   "execution_count": 5,
   "id": "919f3877-8485-4bbf-a25b-d8e58f09e1b0",
   "metadata": {},
   "outputs": [],
   "source": [
    "# Core Libraries\n",
    "import pandas as pd\n",
    "import numpy as np\n",
    "import matplotlib.pyplot as plt\n",
    "import seaborn as sns\n",
    "from datetime import datetime, timedelta\n",
    "from scipy import stats\n",
    "from scipy.stats import randint, uniform\n",
    "\n",
    "# Sklearn\n",
    "from sklearn.datasets import fetch_openml\n",
    "from sklearn.model_selection import train_test_split , RandomizedSearchCV\n",
    "from sklearn.feature_selection import SelectKBest\n",
    "from sklearn.preprocessing import MinMaxScaler, StandardScaler\n",
    "from sklearn.linear_model import LinearRegression, LogisticRegression\n",
    "from sklearn.tree import DecisionTreeClassifier, DecisionTreeRegressor\n",
    "from sklearn.metrics import mean_absolute_error, mean_squared_error, r2_score\n",
    "import sklearn.metrics as metrics\n",
    "from sklearn.pipeline import Pipeline\n",
    "from sklearn.tree import plot_tree\n",
    "from sklearn.ensemble import RandomForestRegressor  # For regression\n",
    "from sklearn.ensemble import RandomForestClassifier  # For classification\n",
    "from sklearn.ensemble import HistGradientBoostingRegressor\n",
    "from sklearn.ensemble import HistGradientBoostingClassifier\n",
    "from sklearn.neighbors import KNeighborsClassifier \n",
    "from sklearn.neighbors import KNeighborsRegressor\n",
    "\n",
    "pd.options.display.float_format = '{:.2f}'.format"
   ]
  },
  {
   "cell_type": "markdown",
   "id": "e799bcd8-3781-4d7c-b1a9-3840abfbb52d",
   "metadata": {},
   "source": [
    "## IMPORT & EXPLORE"
   ]
  },
  {
   "cell_type": "code",
   "execution_count": 6,
   "id": "13b0ec0a-090a-40b9-a58b-f278decdb559",
   "metadata": {},
   "outputs": [
    {
     "name": "stdout",
     "output_type": "stream",
     "text": [
      "TFDS Data Directory: C:\\Users\\User\\tensorflow_datasets\n"
     ]
    }
   ],
   "source": [
    "import tensorflow_datasets as tfds\n",
    "\n",
    "data_dir = tfds.core.constants.DATA_DIR\n",
    "print(\"TFDS Data Directory:\", data_dir)"
   ]
  },
  {
   "cell_type": "code",
   "execution_count": 26,
   "id": "82d70776-9016-4df5-855e-0babebd0a0de",
   "metadata": {},
   "outputs": [
    {
     "name": "stdout",
     "output_type": "stream",
     "text": [
      "\u001b[1mDownloading and preparing dataset Unknown size (download: Unknown size, generated: Unknown size, total: Unknown size) to C:\\Users\\User\\.tensorflow_datasets\\movielens\\1m-ratings\\0.1.1...\u001b[0m\n"
     ]
    },
    {
     "data": {
      "application/vnd.jupyter.widget-view+json": {
       "model_id": "d6a9612c7a7a4611b6fb60bfb5940aab",
       "version_major": 2,
       "version_minor": 0
      },
      "text/plain": [
       "Dl Completed...: 0 url [00:00, ? url/s]"
      ]
     },
     "metadata": {},
     "output_type": "display_data"
    },
    {
     "data": {
      "application/vnd.jupyter.widget-view+json": {
       "model_id": "6f769fd3c0504a7d9a0fea55a78f710b",
       "version_major": 2,
       "version_minor": 0
      },
      "text/plain": [
       "Dl Size...: 0 MiB [00:00, ? MiB/s]"
      ]
     },
     "metadata": {},
     "output_type": "display_data"
    },
    {
     "data": {
      "application/vnd.jupyter.widget-view+json": {
       "model_id": "65723bac264e4f7e8dd9c5edeb3c741e",
       "version_major": 2,
       "version_minor": 0
      },
      "text/plain": [
       "Extraction completed...: 0 file [00:00, ? file/s]"
      ]
     },
     "metadata": {},
     "output_type": "display_data"
    },
    {
     "data": {
      "application/vnd.jupyter.widget-view+json": {
       "model_id": "9b26d4eb05a44ad2b74435353619200a",
       "version_major": 2,
       "version_minor": 0
      },
      "text/plain": [
       "Generating splits...:   0%|          | 0/1 [00:00<?, ? splits/s]"
      ]
     },
     "metadata": {},
     "output_type": "display_data"
    },
    {
     "data": {
      "application/vnd.jupyter.widget-view+json": {
       "model_id": "a7d652cc5dd44780bf4f16a6ec181a77",
       "version_major": 2,
       "version_minor": 0
      },
      "text/plain": [
       "Generating train examples...: 0 examples [00:00, ? examples/s]"
      ]
     },
     "metadata": {},
     "output_type": "display_data"
    },
    {
     "data": {
      "application/vnd.jupyter.widget-view+json": {
       "model_id": "d48d6d334e9f48d59290296b98025b7f",
       "version_major": 2,
       "version_minor": 0
      },
      "text/plain": [
       "Shuffling C:\\Users\\User\\.tensorflow_datasets\\movielens\\1m-ratings\\incomplete.GBIPFF_0.1.1\\movielens-train.tfre…"
      ]
     },
     "metadata": {},
     "output_type": "display_data"
    },
    {
     "name": "stdout",
     "output_type": "stream",
     "text": [
      "\u001b[1mDataset movielens downloaded and prepared to C:\\Users\\User\\.tensorflow_datasets\\movielens\\1m-ratings\\0.1.1. Subsequent calls will reuse this data.\u001b[0m\n"
     ]
    }
   ],
   "source": [
    "import tensorflow_datasets as tfds\n",
    "\n",
    "dataset_name = \"movielens/1m-ratings\"\n",
    "\n",
    "# Reload from local storage (does not redownload)\n",
    "movielens_data = tfds.load(dataset_name, split=\"train\", as_supervised=False, data_dir=\"~/.tensorflow_datasets\")"
   ]
  },
  {
   "cell_type": "code",
   "execution_count": 28,
   "id": "1de6f078-65cb-49ad-bffb-da21af230190",
   "metadata": {},
   "outputs": [],
   "source": [
    "data = [example for example in tfds.as_numpy(movielens_data)]"
   ]
  },
  {
   "cell_type": "code",
   "execution_count": 30,
   "id": "8dc7bdf0-969a-492c-bb17-c439042597db",
   "metadata": {},
   "outputs": [],
   "source": [
    "movielens_data = pd.DataFrame(data)"
   ]
  },
  {
   "cell_type": "code",
   "execution_count": 34,
   "id": "a7fc2048-0b4c-4f69-a9c4-fbdbdba93c2d",
   "metadata": {},
   "outputs": [
    {
     "data": {
      "text/html": [
       "<div>\n",
       "<style scoped>\n",
       "    .dataframe tbody tr th:only-of-type {\n",
       "        vertical-align: middle;\n",
       "    }\n",
       "\n",
       "    .dataframe tbody tr th {\n",
       "        vertical-align: top;\n",
       "    }\n",
       "\n",
       "    .dataframe thead th {\n",
       "        text-align: right;\n",
       "    }\n",
       "</style>\n",
       "<table border=\"1\" class=\"dataframe\">\n",
       "  <thead>\n",
       "    <tr style=\"text-align: right;\">\n",
       "      <th></th>\n",
       "      <th>bucketized_user_age</th>\n",
       "      <th>movie_genres</th>\n",
       "      <th>movie_id</th>\n",
       "      <th>movie_title</th>\n",
       "      <th>timestamp</th>\n",
       "      <th>user_gender</th>\n",
       "      <th>user_id</th>\n",
       "      <th>user_occupation_label</th>\n",
       "      <th>user_occupation_text</th>\n",
       "      <th>user_rating</th>\n",
       "      <th>user_zip_code</th>\n",
       "    </tr>\n",
       "  </thead>\n",
       "  <tbody>\n",
       "    <tr>\n",
       "      <th>0</th>\n",
       "      <td>35.00</td>\n",
       "      <td>[0, 7]</td>\n",
       "      <td>b'3107'</td>\n",
       "      <td>b'Backdraft (1991)'</td>\n",
       "      <td>977432193</td>\n",
       "      <td>True</td>\n",
       "      <td>b'130'</td>\n",
       "      <td>18</td>\n",
       "      <td>b'technician/engineer'</td>\n",
       "      <td>5.00</td>\n",
       "      <td>b'50021'</td>\n",
       "    </tr>\n",
       "    <tr>\n",
       "      <th>1</th>\n",
       "      <td>25.00</td>\n",
       "      <td>[7]</td>\n",
       "      <td>b'2114'</td>\n",
       "      <td>b'Outsiders, The (1983)'</td>\n",
       "      <td>965932967</td>\n",
       "      <td>False</td>\n",
       "      <td>b'3829'</td>\n",
       "      <td>0</td>\n",
       "      <td>b'academic/educator'</td>\n",
       "      <td>4.00</td>\n",
       "      <td>b'22307'</td>\n",
       "    </tr>\n",
       "    <tr>\n",
       "      <th>2</th>\n",
       "      <td>18.00</td>\n",
       "      <td>[4, 15]</td>\n",
       "      <td>b'256'</td>\n",
       "      <td>b'Junior (1994)'</td>\n",
       "      <td>1012103552</td>\n",
       "      <td>False</td>\n",
       "      <td>b'1265'</td>\n",
       "      <td>21</td>\n",
       "      <td>b'writer'</td>\n",
       "      <td>1.00</td>\n",
       "      <td>b'49321'</td>\n",
       "    </tr>\n",
       "  </tbody>\n",
       "</table>\n",
       "</div>"
      ],
      "text/plain": [
       "   bucketized_user_age movie_genres movie_id               movie_title  \\\n",
       "0                35.00       [0, 7]  b'3107'       b'Backdraft (1991)'   \n",
       "1                25.00          [7]  b'2114'  b'Outsiders, The (1983)'   \n",
       "2                18.00      [4, 15]   b'256'          b'Junior (1994)'   \n",
       "\n",
       "    timestamp  user_gender  user_id  user_occupation_label  \\\n",
       "0   977432193         True   b'130'                     18   \n",
       "1   965932967        False  b'3829'                      0   \n",
       "2  1012103552        False  b'1265'                     21   \n",
       "\n",
       "     user_occupation_text  user_rating user_zip_code  \n",
       "0  b'technician/engineer'         5.00      b'50021'  \n",
       "1    b'academic/educator'         4.00      b'22307'  \n",
       "2               b'writer'         1.00      b'49321'  "
      ]
     },
     "execution_count": 34,
     "metadata": {},
     "output_type": "execute_result"
    }
   ],
   "source": [
    "movielens_data.head(3)"
   ]
  },
  {
   "cell_type": "code",
   "execution_count": 43,
   "id": "63bdac0f-0d46-450e-be80-ce76c506feb1",
   "metadata": {},
   "outputs": [],
   "source": [
    "\n",
    "# Now,  let's split whole dataset into 3 parts \n",
    "\n",
    "movielens_user_data = movielens_data[['user_id','user_zip_code','user_gender',\n",
    "                                      'bucketized_user_age','user_occupation_label','user_occupation_text']]\n",
    "\n",
    "movielens_movies_data = movielens_data[['movie_id','movie_genres','movie_title']]\n",
    "\n",
    "\n",
    "movielens_ratings_data = movielens_data[['movie_id','user_id','user_rating']]"
   ]
  },
  {
   "cell_type": "markdown",
   "id": "912dcf61-f7dc-4bd4-94c3-1e39439c1427",
   "metadata": {},
   "source": [
    "## CLEAN & PREPARE"
   ]
  },
  {
   "cell_type": "markdown",
   "id": "5708579c-c721-4d62-84e7-1ca347a8102d",
   "metadata": {
    "jp-MarkdownHeadingCollapsed": true
   },
   "source": [
    "##### HELPFUL FUNCTIONS"
   ]
  },
  {
   "cell_type": "code",
   "execution_count": null,
   "id": "8e547bd4-cb54-4985-b977-bb7c6f355808",
   "metadata": {},
   "outputs": [],
   "source": [
    "# let's extract year from the movielens_movies_data\n",
    "\n",
    "import re\n",
    "\n",
    "# Function to extract year from movie title\n",
    "def extract_year(title):\n",
    "    match = re.search(r'\\((\\d{4})\\)', title.decode('utf-8'))\n",
    "    return int(match.group(1)) if match else None\n",
    "\n",
    "\n",
    "movielens_movies_data['year'] = movielens_movies_data['movie_title'].apply(extract_year)\n"
   ]
  },
  {
   "cell_type": "code",
   "execution_count": 7,
   "id": "06718926-6503-47fc-a540-be93443e7b26",
   "metadata": {},
   "outputs": [],
   "source": [
    "def fix_title_format(title):\n",
    "    # Remove year from the title\n",
    "    title = re.sub(r'\\s*\\(\\d{4}\\)$', '', title).strip()\n",
    "    \n",
    "    # Fix cases like \"Spy Who Loved Me, The\" → \"The Spy Who Loved Me\"\n",
    "    match = re.match(r'^(.*),\\s*(The|A|An)$', title)\n",
    "    if match:\n",
    "        title = f\"{match.group(2)} {match.group(1)}\"\n",
    "    \n",
    "    return title"
   ]
  },
  {
   "cell_type": "code",
   "execution_count": 9,
   "id": "33269f2b-5bf2-4da3-ab8a-1627c4dedc4c",
   "metadata": {},
   "outputs": [],
   "source": [
    "def cleaner(df, \n",
    "            unneeded_columns=None, \n",
    "            date_columns=None, \n",
    "            date_format = None , \n",
    "            to_category_columns=None, \n",
    "            to_cat_code_columns = None , \n",
    "            outlier_columns=None):\n",
    "\n",
    "    \"\"\" \n",
    "    This function get pandas DataFrame and attributes like 'date_columns' and 'to_category_columns' to manipulate ,\n",
    "    clean and prepare dataset for usage.\n",
    "    \n",
    "    \"\"\"\n",
    "    \n",
    "    # Convert specified columns to datetime\n",
    "    if date_columns:\n",
    "        for date_column in date_columns:\n",
    "            if date_column in df.columns:\n",
    "                df[date_column] = pd.to_datetime(df[date_column], format = date_format ,errors='coerce')\n",
    "\n",
    "    # Convert specified columns to category\n",
    "    if to_category_columns:\n",
    "        for category_column in to_category_columns:\n",
    "            if category_column in df.columns:\n",
    "                df[category_column] = df[category_column].astype('category')\n",
    "                \n",
    "        if to_cat_code_columns:\n",
    "            for column in to_cat_code_columns:\n",
    "                df[f'{column}_code'] = df[column].cat.codes\n",
    "\n",
    "    # Handle outliers using the IQR method\n",
    "    if outlier_columns:\n",
    "        for outlier_column in outlier_columns:\n",
    "            if outlier_column in df.columns:\n",
    "                iqr = df[outlier_column].quantile(0.75) - df[outlier_column].quantile(0.25)\n",
    "                lower_bound = df[outlier_column].quantile(0.25) - (1.5 * iqr)\n",
    "                upper_bound = df[outlier_column].quantile(0.75) + (1.5 * iqr)\n",
    "                df = df[(df[outlier_column] >= lower_bound) & (df[outlier_column] <= upper_bound)]\n",
    "\n",
    "     # Drop unnecessary columns\n",
    "    if unneeded_columns:\n",
    "        df = df.drop(columns=unneeded_columns)  # Use 'errors=\"ignore\"' to avoid errors if columns don't exist.\n",
    "\n",
    "    # Rename columns\n",
    "    df.columns = df.columns.str.lower()\n",
    "    df.columns = df.columns.str.replace(' ', '_')\n",
    "    df.columns = df.columns.str.replace('(', '', regex=False)\n",
    "    df.columns = df.columns.str.replace(')', '', regex=False)\n",
    "    df.columns = df.columns.str.replace('-', '_', regex=False)\n",
    "    df.columns = df.columns.str.replace('.', '', regex=False)\n",
    "    df.columns = df.columns.str.replace('/', '', regex=False)\n",
    "    df.columns = df.columns.str.replace('\\\\', '', regex=False)\n",
    "    df.columns = df.columns.str.replace('%', '_percent', regex=False)\n",
    "    \n",
    "    return df"
   ]
  },
  {
   "cell_type": "markdown",
   "id": "debd088b-a8d2-4fdf-b59a-bd30fff707c2",
   "metadata": {},
   "source": [
    "#### Merging with IMBD data"
   ]
  },
  {
   "cell_type": "markdown",
   "id": "5c86c716-4054-44d0-8aef-9b65ce1be271",
   "metadata": {
    "jp-MarkdownHeadingCollapsed": true
   },
   "source": [
    "##### IMDB DATA IMPORT"
   ]
  },
  {
   "cell_type": "code",
   "execution_count": 11,
   "id": "83765516-74fd-4905-8d28-93f1a42ea6e5",
   "metadata": {},
   "outputs": [
    {
     "name": "stderr",
     "output_type": "stream",
     "text": [
      "C:\\Users\\User\\AppData\\Local\\Temp\\ipykernel_3836\\137705863.py:3: DtypeWarning: Columns (4) have mixed types. Specify dtype option on import or set low_memory=False.\n",
      "  imdb_titles_data = pd.read_csv(r\"C:\\Users\\User\\Desktop\\MovieLens Project\\data\\title.basics.tsv.gz\",sep = '\\t')\n"
     ]
    }
   ],
   "source": [
    "# importing imdb data \n",
    "\n",
    "imdb_titles_data = pd.read_csv(r\"C:\\Users\\User\\Desktop\\MovieLens Project\\data\\title.basics.tsv.gz\",sep = '\\t')\n"
   ]
  },
  {
   "cell_type": "code",
   "execution_count": 13,
   "id": "13602003-b4fe-4435-82d8-8050cf3164bf",
   "metadata": {},
   "outputs": [],
   "source": [
    "imdb_ratings_data = pd.read_csv(r\"C:\\Users\\User\\Desktop\\MovieLens Project\\data\\title.ratings.tsv.gz\",sep = '\\t')"
   ]
  },
  {
   "cell_type": "markdown",
   "id": "8a7f7edb-1322-460d-95b7-e01e4752e587",
   "metadata": {},
   "source": [
    "##### PREPARE MovieLens DATA TO MERGE"
   ]
  },
  {
   "cell_type": "code",
   "execution_count": null,
   "id": "8aac8c3c-7dc0-46e1-909b-845c0a6cf63c",
   "metadata": {},
   "outputs": [],
   "source": [
    "# Extract the title without the year\n",
    "movielens_movies_data['clean_movie_title'] = movielens_movies_data['movie_title'].apply(fix_title_format)\n"
   ]
  },
  {
   "cell_type": "code",
   "execution_count": 27,
   "id": "a3fba15a-8efe-4ff9-8dc8-1fffce036b2f",
   "metadata": {},
   "outputs": [],
   "source": [
    "imdb_titles_data = imdb_titles_data[(imdb_titles_data['titleType'] == 'movie')] # keep only information about movies"
   ]
  },
  {
   "cell_type": "code",
   "execution_count": 29,
   "id": "9ae55423-856f-4ae0-bdd6-95dd0a231648",
   "metadata": {},
   "outputs": [],
   "source": [
    "imdb_titles_data['startYear'] = pd.to_numeric(imdb_titles_data['startYear'], errors='coerce')\n",
    "imdb_titles_data['startYear'] = imdb_titles_data['startYear'].astype('Int64')  # Keeps NaNs as null values"
   ]
  },
  {
   "cell_type": "code",
   "execution_count": 142,
   "id": "34f1270e-73b4-4981-badd-c1e90564b992",
   "metadata": {},
   "outputs": [],
   "source": [
    "# Let's make first merge with IMDB titles data \n",
    "\n",
    "movielens_movies_extended_data = pd.merge(movielens_movies_data,\n",
    "                                          imdb_titles_data,\n",
    "                                          right_on = ['primaryTitle','startYear'],\n",
    "                                          left_on = ['clean_movie_title','year'])"
   ]
  },
  {
   "cell_type": "code",
   "execution_count": 148,
   "id": "4f53277e-f7c2-42ad-9824-b40677315b44",
   "metadata": {},
   "outputs": [],
   "source": [
    "# Now, let's do some basic cleaning \n",
    "\n",
    "movielens_movies_extended_data = cleaner( df = movielens_movies_extended_data, \n",
    "                                          unneeded_columns=['movie_genres','primaryTitle','endYear',\n",
    "                                                            'titleType','originalTitle','startYear',\n",
    "                                                            ], \n",
    "                                          date_columns=None, \n",
    "                                          date_format = None , \n",
    "                                          to_category_columns= ['genres'], \n",
    "                                          to_cat_code_columns = ['genres'] , \n",
    "                                          outlier_columns=None )"
   ]
  },
  {
   "cell_type": "code",
   "execution_count": 28,
   "id": "304a3582-4688-4e60-a5cb-86a69abace24",
   "metadata": {},
   "outputs": [],
   "source": [
    "# We also do this basic cleaning with prepared function with IMDB ratings data\n",
    "\n",
    "imdb_ratings_data = cleaner( df = imdb_ratings_data, \n",
    "                                  unneeded_columns=None, \n",
    "                                  date_columns=None, \n",
    "                                  date_format = None , \n",
    "                                  to_category_columns=None, \n",
    "                                  to_cat_code_columns =None, \n",
    "                                  outlier_columns=None )"
   ]
  },
  {
   "cell_type": "code",
   "execution_count": 165,
   "id": "8423aa11-d536-4fa3-8938-3fb17a5544ed",
   "metadata": {},
   "outputs": [],
   "source": [
    "# Let's convert float to int if possible to save memory and speed up merging\n",
    "\n",
    "for column in movielens_movies_extended_data[['year','isadult','runtimeminutes']]:\n",
    "\n",
    "    movielens_movies_extended_data[column] = pd.to_numeric(movielens_movies_extended_data[column], errors='coerce')\n",
    "    movielens_movies_extended_data[column] = movielens_movies_extended_data[column].astype('Int64')  # Keeps NaNs as null values"
   ]
  },
  {
   "cell_type": "code",
   "execution_count": 36,
   "id": "f27e8668-ecd6-4205-8cba-0a0ec7ea919f",
   "metadata": {},
   "outputs": [],
   "source": [
    "# let's also add new extra features \n",
    "\n",
    "movielens_movies_extended_data = pd.merge(movielens_movies_extended_data,\n",
    "                                          imdb_ratings_data)\n"
   ]
  },
  {
   "cell_type": "code",
   "execution_count": 23,
   "id": "f951c64b-4f9c-4600-91d1-a16e47d6f267",
   "metadata": {},
   "outputs": [],
   "source": [
    "movielens_user_data['user_zip_code'] = (\n",
    "    movielens_user_data['user_zip_code']\n",
    "    .astype(str)  # Convert bytes to string\n",
    "    .str.extract(r\"b'(\\d+)'\")  # Extract only numeric part\n",
    "    .astype('float')  # Convert to numbers (or NaN if extraction fails)\n",
    ")\n"
   ]
  },
  {
   "cell_type": "code",
   "execution_count": 25,
   "id": "3c4c0742-a147-47de-b7e4-accf38379723",
   "metadata": {},
   "outputs": [],
   "source": [
    "movielens_user_data['bucketized_user_age'] = movielens_user_data['bucketized_user_age'].astype('int')"
   ]
  },
  {
   "cell_type": "markdown",
   "id": "9ea31280-a83c-45a8-8f88-c8533be66a82",
   "metadata": {
    "jp-MarkdownHeadingCollapsed": true
   },
   "source": [
    "##### Combine data into general dataset"
   ]
  },
  {
   "cell_type": "code",
   "execution_count": 23,
   "id": "e69bbb88-6eb6-448c-86de-5f6cab679d0f",
   "metadata": {},
   "outputs": [],
   "source": [
    "def clean_bytes(df):\n",
    "    for col in df.select_dtypes(include=['object']).columns:\n",
    "        df[col] = df[col].astype(str).str.strip(\"b'\")  # Remove \"b'\" from byte strings\n",
    "    return df\n",
    "\n",
    "# Apply function to all DataFrames\n",
    "movielens_movies_extended_data = clean_bytes(movielens_movies_extended_data)\n",
    "movielens_ratings_data = clean_bytes(movielens_ratings_data)\n",
    "movielens_user_data = clean_bytes(movielens_user_data)"
   ]
  },
  {
   "cell_type": "markdown",
   "id": "01a043fc-eb94-483f-b184-2e31e060b913",
   "metadata": {},
   "source": [
    "Note : In order to collect data which can be used in our task , we must keep in mind potential sizes of our final , combined dataset which can be 10 - 20 times larget than original user-ratings data. To decrease time and memory consuming , i will only use random subsamples without replacement of the original datasets."
   ]
  },
  {
   "cell_type": "code",
   "execution_count": 29,
   "id": "795baabc-2856-4a7f-9dc4-c55678a8ee87",
   "metadata": {},
   "outputs": [],
   "source": [
    "movielens_movies_extended_data_40_percent_sample = movielens_movies_extended_data.sample(frac = 0.4,\n",
    "                                                                                         replace = False,\n",
    "                                                                                         random_state = 42)"
   ]
  },
  {
   "cell_type": "code",
   "execution_count": 31,
   "id": "46130510-623a-4846-9fd5-609d23e80c20",
   "metadata": {},
   "outputs": [],
   "source": [
    "movielens_ratings_data_40_percent_sample = movielens_ratings_data.sample(frac = 0.4,\n",
    "                                                                         replace = False,\n",
    "                                                                         random_state = 42)"
   ]
  },
  {
   "cell_type": "code",
   "execution_count": 33,
   "id": "7e9cb231-845c-432a-9e1a-6c0e06fa3fa0",
   "metadata": {},
   "outputs": [],
   "source": [
    "movielens_user_data_40_percent_sample = movielens_user_data.sample(frac = 0.4,\n",
    "                                                                   replace = False,\n",
    "                                                                   random_state = 42)"
   ]
  },
  {
   "cell_type": "code",
   "execution_count": 35,
   "id": "85ba9988-edb5-47f8-899e-f8e18c01511c",
   "metadata": {},
   "outputs": [],
   "source": [
    "movielens_user_movies_sample_interaction_data = pd.merge( movielens_ratings_data_40_percent_sample, \n",
    "                                                          movielens_movies_extended_data_40_percent_sample ).drop_duplicates()"
   ]
  },
  {
   "cell_type": "code",
   "execution_count": 37,
   "id": "38d02225-aff0-446b-a717-3fc23b3cd82f",
   "metadata": {},
   "outputs": [],
   "source": [
    "movielens_user_movies_sample_interaction_data = pd.merge( movielens_user_movies_sample_interaction_data ,\n",
    "                                                          movielens_user_data_40_percent_sample ).drop_duplicates()                                     "
   ]
  },
  {
   "cell_type": "code",
   "execution_count": 59,
   "id": "d261600a-bb20-472d-a7ad-2a8c35ec019f",
   "metadata": {},
   "outputs": [
    {
     "data": {
      "text/html": [
       "<div>\n",
       "<style scoped>\n",
       "    .dataframe tbody tr th:only-of-type {\n",
       "        vertical-align: middle;\n",
       "    }\n",
       "\n",
       "    .dataframe tbody tr th {\n",
       "        vertical-align: top;\n",
       "    }\n",
       "\n",
       "    .dataframe thead th {\n",
       "        text-align: right;\n",
       "    }\n",
       "</style>\n",
       "<table border=\"1\" class=\"dataframe\">\n",
       "  <thead>\n",
       "    <tr style=\"text-align: right;\">\n",
       "      <th></th>\n",
       "      <th>movie_id</th>\n",
       "      <th>user_id</th>\n",
       "      <th>user_rating</th>\n",
       "      <th>movie_title</th>\n",
       "      <th>year</th>\n",
       "      <th>clean_movie_title</th>\n",
       "      <th>tconst</th>\n",
       "      <th>isadult</th>\n",
       "      <th>runtimeminutes</th>\n",
       "      <th>genres</th>\n",
       "      <th>genres_code</th>\n",
       "      <th>averagerating</th>\n",
       "      <th>numvotes</th>\n",
       "      <th>user_zip_code</th>\n",
       "      <th>user_gender</th>\n",
       "      <th>bucketized_user_age</th>\n",
       "      <th>user_occupation_label</th>\n",
       "      <th>user_occupation_text</th>\n",
       "    </tr>\n",
       "  </thead>\n",
       "  <tbody>\n",
       "    <tr>\n",
       "      <th>50844381</th>\n",
       "      <td>514</td>\n",
       "      <td>2271</td>\n",
       "      <td>3.00</td>\n",
       "      <td>Ref, The (1994)</td>\n",
       "      <td>1994</td>\n",
       "      <td>The Ref</td>\n",
       "      <td>tt0110955</td>\n",
       "      <td>0</td>\n",
       "      <td>97.00</td>\n",
       "      <td>Comedy,Crime,Drama</td>\n",
       "      <td>144</td>\n",
       "      <td>6.90</td>\n",
       "      <td>27501</td>\n",
       "      <td>13210.00</td>\n",
       "      <td>True</td>\n",
       "      <td>50</td>\n",
       "      <td>14</td>\n",
       "      <td>sales/marketing</td>\n",
       "    </tr>\n",
       "    <tr>\n",
       "      <th>18818271</th>\n",
       "      <td>3113</td>\n",
       "      <td>1737</td>\n",
       "      <td>4.00</td>\n",
       "      <td>End of Days (1999)</td>\n",
       "      <td>1999</td>\n",
       "      <td>End of Days</td>\n",
       "      <td>tt0146675</td>\n",
       "      <td>0</td>\n",
       "      <td>122.00</td>\n",
       "      <td>Action,Fantasy,Horror</td>\n",
       "      <td>48</td>\n",
       "      <td>5.80</td>\n",
       "      <td>118794</td>\n",
       "      <td>46614.00</td>\n",
       "      <td>True</td>\n",
       "      <td>35</td>\n",
       "      <td>21</td>\n",
       "      <td>writer</td>\n",
       "    </tr>\n",
       "    <tr>\n",
       "      <th>26752435</th>\n",
       "      <td>1527</td>\n",
       "      <td>173</td>\n",
       "      <td>3.00</td>\n",
       "      <td>Fifth Element, The (1997)</td>\n",
       "      <td>1997</td>\n",
       "      <td>The Fifth Element</td>\n",
       "      <td>tt0119116</td>\n",
       "      <td>0</td>\n",
       "      <td>126.00</td>\n",
       "      <td>Action,Adventure,Sci-Fi</td>\n",
       "      <td>12</td>\n",
       "      <td>7.60</td>\n",
       "      <td>521774</td>\n",
       "      <td>45237.00</td>\n",
       "      <td>True</td>\n",
       "      <td>25</td>\n",
       "      <td>11</td>\n",
       "      <td>other/not specified</td>\n",
       "    </tr>\n",
       "    <tr>\n",
       "      <th>2229873</th>\n",
       "      <td>2026</td>\n",
       "      <td>5675</td>\n",
       "      <td>4.00</td>\n",
       "      <td>Disturbing Behavior (1998)</td>\n",
       "      <td>1998</td>\n",
       "      <td>Disturbing Behavior</td>\n",
       "      <td>tt0134619</td>\n",
       "      <td>0</td>\n",
       "      <td>84.00</td>\n",
       "      <td>Horror,Mystery,Sci-Fi</td>\n",
       "      <td>311</td>\n",
       "      <td>5.60</td>\n",
       "      <td>26119</td>\n",
       "      <td>30030.00</td>\n",
       "      <td>True</td>\n",
       "      <td>35</td>\n",
       "      <td>14</td>\n",
       "      <td>sales/marketing</td>\n",
       "    </tr>\n",
       "    <tr>\n",
       "      <th>46246957</th>\n",
       "      <td>225</td>\n",
       "      <td>999</td>\n",
       "      <td>4.00</td>\n",
       "      <td>Disclosure (1994)</td>\n",
       "      <td>1994</td>\n",
       "      <td>Disclosure</td>\n",
       "      <td>tt0109635</td>\n",
       "      <td>0</td>\n",
       "      <td>128.00</td>\n",
       "      <td>Drama,Thriller</td>\n",
       "      <td>290</td>\n",
       "      <td>6.20</td>\n",
       "      <td>55920</td>\n",
       "      <td>62558.00</td>\n",
       "      <td>True</td>\n",
       "      <td>25</td>\n",
       "      <td>15</td>\n",
       "      <td>scientist</td>\n",
       "    </tr>\n",
       "  </tbody>\n",
       "</table>\n",
       "</div>"
      ],
      "text/plain": [
       "         movie_id user_id  user_rating                 movie_title  year  \\\n",
       "50844381      514    2271         3.00             Ref, The (1994)  1994   \n",
       "18818271     3113    1737         4.00          End of Days (1999)  1999   \n",
       "26752435     1527     173         3.00   Fifth Element, The (1997)  1997   \n",
       "2229873      2026    5675         4.00  Disturbing Behavior (1998)  1998   \n",
       "46246957      225     999         4.00           Disclosure (1994)  1994   \n",
       "\n",
       "            clean_movie_title     tconst  isadult  runtimeminutes  \\\n",
       "50844381              The Ref  tt0110955        0           97.00   \n",
       "18818271          End of Days  tt0146675        0          122.00   \n",
       "26752435    The Fifth Element  tt0119116        0          126.00   \n",
       "2229873   Disturbing Behavior  tt0134619        0           84.00   \n",
       "46246957           Disclosure  tt0109635        0          128.00   \n",
       "\n",
       "                           genres  genres_code  averagerating  numvotes  \\\n",
       "50844381       Comedy,Crime,Drama          144           6.90     27501   \n",
       "18818271    Action,Fantasy,Horror           48           5.80    118794   \n",
       "26752435  Action,Adventure,Sci-Fi           12           7.60    521774   \n",
       "2229873     Horror,Mystery,Sci-Fi          311           5.60     26119   \n",
       "46246957           Drama,Thriller          290           6.20     55920   \n",
       "\n",
       "          user_zip_code  user_gender  bucketized_user_age  \\\n",
       "50844381       13210.00         True                   50   \n",
       "18818271       46614.00         True                   35   \n",
       "26752435       45237.00         True                   25   \n",
       "2229873        30030.00         True                   35   \n",
       "46246957       62558.00         True                   25   \n",
       "\n",
       "          user_occupation_label user_occupation_text  \n",
       "50844381                     14      sales/marketing  \n",
       "18818271                     21               writer  \n",
       "26752435                     11  other/not specified  \n",
       "2229873                      14      sales/marketing  \n",
       "46246957                     15            scientist  "
      ]
     },
     "execution_count": 59,
     "metadata": {},
     "output_type": "execute_result"
    }
   ],
   "source": [
    "movielens_user_movies_sample_interaction_data.sample(5)"
   ]
  },
  {
   "cell_type": "markdown",
   "id": "3c69c74b-accf-4b95-8b30-8bc62f778a49",
   "metadata": {},
   "source": [
    "Now , we have this combined user-item interaction like dataset , it an be used to build models"
   ]
  },
  {
   "cell_type": "code",
   "execution_count": null,
   "id": "d26ad3f5-b340-41a2-8216-539806160e59",
   "metadata": {},
   "outputs": [],
   "source": []
  },
  {
   "cell_type": "code",
   "execution_count": null,
   "id": "3da96ea3-54a6-4291-91c6-7c74620a941b",
   "metadata": {},
   "outputs": [],
   "source": []
  }
 ],
 "metadata": {
  "kernelspec": {
   "display_name": "Python 3 (ipykernel)",
   "language": "python",
   "name": "python3"
  },
  "language_info": {
   "codemirror_mode": {
    "name": "ipython",
    "version": 3
   },
   "file_extension": ".py",
   "mimetype": "text/x-python",
   "name": "python",
   "nbconvert_exporter": "python",
   "pygments_lexer": "ipython3",
   "version": "3.12.4"
  }
 },
 "nbformat": 4,
 "nbformat_minor": 5
}
